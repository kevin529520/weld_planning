{
 "cells": [
  {
   "cell_type": "code",
   "execution_count": 1,
   "metadata": {},
   "outputs": [
    {
     "name": "stdout",
     "output_type": "stream",
     "text": [
      "ArUco 码已保存为 aruco_marker.png\n"
     ]
    }
   ],
   "source": [
    "import cv2\n",
    "import cv2.aruco as aruco\n",
    "\n",
    "# 创建一个 4x4 的 ArUco 码\n",
    "aruco_dict = aruco.Dictionary_get(aruco.DICT_4X4_50)\n",
    "marker_id = 0  # 选择一个 ID\n",
    "marker_size = 200  # 图像尺寸，以像素为单位\n",
    "\n",
    "# 创建 ArUco 码图像\n",
    "marker_image = aruco.drawMarker(aruco_dict, marker_id, marker_size)\n",
    "\n",
    "# 保存图像\n",
    "cv2.imwrite(\"aruco_marker.png\", marker_image)\n",
    "\n",
    "# 打印信息\n",
    "print(\"ArUco 码已保存为 aruco_marker.png\")"
   ]
  },
  {
   "cell_type": "code",
   "execution_count": 2,
   "metadata": {},
   "outputs": [
    {
     "name": "stdout",
     "output_type": "stream",
     "text": [
      "ArUco 码已保存为 aruco_marker.pdf\n"
     ]
    },
    {
     "data": {
      "image/png": "[encoded data removed]",
      "text/plain": [
       "<Figure size 19.685x19.685 with 1 Axes>"
      ]
     },
     "metadata": {},
     "output_type": "display_data"
    }
   ],
   "source": [
    "# import cv2\n",
    "# import cv2.aruco as aruco\n",
    "import matplotlib.pyplot as plt\n",
    "\n",
    "# 创建一个 4x4 的 ArUco 码\n",
    "aruco_dict = aruco.Dictionary_get(aruco.DICT_4X4_50)\n",
    "marker_id = 0  # 选择一个 ID\n",
    "marker_size = 59  # 图像尺寸，以像素为单位\n",
    "\n",
    "# 创建 ArUco 码图像\n",
    "marker_image = aruco.drawMarker(aruco_dict, marker_id, marker_size)\n",
    "\n",
    "# 使用 matplotlib 保存为 PDF\n",
    "plt.figure(figsize=(0.19685, 0.19685))  # 5mm = 0.19685 inches\n",
    "plt.imshow(marker_image, cmap='gray')\n",
    "plt.axis('off')\n",
    "plt.savefig(\"aruco_marker.pdf\", bbox_inches='tight', pad_inches=0, dpi=300)\n",
    "\n",
    "# 打印信息\n",
    "print(\"ArUco 码已保存为 aruco_marker.pdf\")"
   ]
  },
  {
   "cell_type": "code",
   "execution_count": 5,
   "metadata": {},
   "outputs": [
    {
     "name": "stdout",
     "output_type": "stream",
     "text": [
      "ArUco 码已保存为 aruco_marker_with_border.pdf\n"
     ]
    },
    {
     "data": {
      "image/png": "[encoded data removed]",
      "text/plain": [
       "<Figure size 39.37x39.37 with 1 Axes>"
      ]
     },
     "metadata": {},
     "output_type": "display_data"
    }
   ],
   "source": [
    "# import cv2\n",
    "# import cv2.aruco as aruco\n",
    "import matplotlib.pyplot as plt\n",
    "import numpy as np\n",
    "\n",
    "# 创建一个 4x4 的 ArUco 码\n",
    "aruco_dict = aruco.Dictionary_get(aruco.DICT_4X4_50)\n",
    "marker_id = 0  # 选择一个 ID\n",
    "marker_size = 59  # 图像尺寸，以像素为单位\n",
    "\n",
    "# 创建 ArUco 码图像\n",
    "marker_image = aruco.drawMarker(aruco_dict, marker_id, marker_size)\n",
    "\n",
    "# 计算边框像素大小\n",
    "border_size = 59  # 1cm = 0.3937 inches, 0.3937 * 300 DPI = 118 pixels\n",
    "\n",
    "# 创建带边框的图像\n",
    "bordered_image = np.full((marker_size + border_size, marker_size + border_size), 255, dtype=np.uint8)\n",
    "start = border_size // 2\n",
    "bordered_image[start:start + marker_size, start:start + marker_size] = marker_image\n",
    "\n",
    "# 使用 matplotlib 保存为 PDF\n",
    "plt.figure(figsize=(0.3937, 0.3937))  # 1cm = 0.3937 inches\n",
    "plt.imshow(bordered_image, cmap='gray')\n",
    "plt.axis('off')\n",
    "plt.savefig(\"aruco_marker_with_border.pdf\", bbox_inches='tight', pad_inches=0, dpi=300)\n",
    "\n",
    "# 打印信息\n",
    "print(\"ArUco 码已保存为 aruco_marker_with_border.pdf\")"
   ]
  }
 ],
 "metadata": {
  "kernelspec": {
   "display_name": "soft_finger",
   "language": "python",
   "name": "python3"
  },
  "language_info": {
   "codemirror_mode": {
    "name": "ipython",
    "version": 3
   },
   "file_extension": ".py",
   "mimetype": "text/x-python",
   "name": "python",
   "nbconvert_exporter": "python",
   "pygments_lexer": "ipython3",
   "version": "3.11.9"
  }
 },
 "nbformat": 4,
 "nbformat_minor": 2
}
