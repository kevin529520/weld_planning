{
 "cells": [
  {
   "cell_type": "code",
   "execution_count": 1,
   "metadata": {},
   "outputs": [
    {
     "name": "stdout",
     "output_type": "stream",
     "text": [
      "4.6.0\n",
      "当前工作目录: d:\\南方\\南科\\weld project\\soft_finger\\weld_planning_2\\weld_planning\\arucoTest\n"
     ]
    }
   ],
   "source": [
    "import cv2\n",
    "print(cv2.__version__)\n",
    "import os\n",
    "print(\"当前工作目录:\", os.getcwd())\n",
    "\n",
    "from cv2 import aruco\n",
    "import cv2.aruco as aruco"
   ]
  },
  {
   "cell_type": "code",
   "execution_count": null,
   "metadata": {},
   "outputs": [],
   "source": [
    "for i in range(0, 8):\n",
    "    cap = cv2.VideoCapture(i)\n",
    "    if cap.isOpened():\n",
    "        print( 'camera open')\n",
    "        while True:\n",
    "            ret, img = cap.read()\n",
    "            print(ret)\n",
    "            if not ret:\n",
    "                continue\n",
    "            else:\n",
    "                print(ret, \"camera id:\")\n",
    "                print(img.shape)\n",
    "            #\n",
    "\n",
    "                cv2.imshow('5', img)\n",
    "                cv2.waitKey(10)\n",
    "                c = cv2.waitKey(1000)\n",
    "                if c == 27:\n",
    "                        break\n",
    "                cap.set(cv2.CAP_PROP_FPS, 330)\n",
    "                cv2.destroyAllWindows()\n",
    "    cap.release()\n",
    "    cv2.destroyAllWindows()\n",
    "    # break"
   ]
  },
  {
   "cell_type": "code",
   "execution_count": 9,
   "metadata": {},
   "outputs": [],
   "source": [
    "# 生成一个aruco图片\n",
    "\n",
    "# # 创建 4X4_100 字典\n",
    "# aruco_dict = aruco.Dictionary_get(aruco.DICT_4X4_250)\n",
    "\n",
    "# # 生成一个 ID 为 42 的 ArUco 标记\n",
    "# marker_id = 30\n",
    "# marker_size = 200  # 标记的尺寸（以像素为单位）\n",
    "# marker_image = aruco.drawMarker(aruco_dict, marker_id, marker_size)\n",
    "\n",
    "# cv2.imshow('ArUco Marker', marker_image)\n",
    "# cv2.waitKey(0)\n",
    "# cv2.destroyAllWindows()"
   ]
  },
  {
   "cell_type": "code",
   "execution_count": 2,
   "metadata": {},
   "outputs": [],
   "source": [
    "import cv2, os, yaml\n",
    "import pandas as pd\n",
    "config = yaml.load(open('./controller_config.yaml'), Loader=yaml.FullLoader)"
   ]
  },
  {
   "cell_type": "code",
   "execution_count": null,
   "metadata": {},
   "outputs": [],
   "source": [
    "import numpy as np\n",
    "import time\n",
    "from queue import LifoQueue, Full\n",
    "\n",
    "class GetFingerForce:\n",
    "    def __init__(self, tag_pose_vecs):\n",
    "        self.p0 = np.mean(tag_pose_vecs[:, :], axis=0)\n",
    "        # 取均值\n",
    "        self.dpLast = np.zeros([6])\n",
    "        self.dp = np.zeros([12])\n",
    "        self.ImgQue = LifoQueue(100)\n",
    "        # 后进先出队列，最新的图像会被最先处理\n",
    "        self.StopImgRead = LifoQueue(1000)\n",
    "\n",
    "        self.Pose = np.zeros(0)\n",
    "        self.LastTime = time.time()\n",
    "\n",
    "    def add_image(self, img):\n",
    "        try:\n",
    "            self.ImgQue.put(img, block=False)\n",
    "        except Full:\n",
    "            print(\"队列已满，无法添加新的图像\")\n",
    "\n",
    "# 示例用法\n",
    "tag_pose_vecs = np.random.rand(10, 3)  # 示例数据\n",
    "get_finger_force = GetFingerForce(tag_pose_vecs)\n",
    "\n",
    "# 尝试添加一些图像到队列中\n",
    "for _ in range(105):  # 尝试添加超过队列容量的图像\n",
    "    img = np.random.rand(640, 480, 3)  # 示例图像数据\n",
    "    get_finger_force.add_image(img)\n",
    "\n",
    "print(\"ImgQue size:\", get_finger_force.ImgQue.qsize())\n",
    "print(\"程序未崩溃，继续运行\")"
   ]
  },
  {
   "cell_type": "markdown",
   "metadata": {},
   "source": []
  },
  {
   "cell_type": "code",
   "execution_count": 3,
   "metadata": {},
   "outputs": [
    {
     "name": "stdout",
     "output_type": "stream",
     "text": [
      "[-3.14159265  0.          0.        ]\n"
     ]
    }
   ],
   "source": [
    "from scipy.spatial.transform import Rotation as Rt\n",
    "def rpy2rot_vec(rpy):\n",
    "    r = Rt.from_euler('xyz', rpy)\n",
    "    rot_vec = r.as_rotvec()\n",
    "    return rot_vec\n",
    "    # 欧拉角转换成旋转向量\n",
    "tcp = rpy2rot_vec((-np.pi, 0, 0))\n",
    "print(tcp)"
   ]
  },
  {
   "cell_type": "code",
   "execution_count": 4,
   "metadata": {},
   "outputs": [
    {
     "data": {
      "text/plain": [
       "< cv2.aruco.DetectorParameters 000001A3B6960490>"
      ]
     },
     "execution_count": 4,
     "metadata": {},
     "output_type": "execute_result"
    }
   ],
   "source": [
    "import numpy as np\n",
    "import cv2\n",
    "import cv2.aruco as aruco\n",
    "parameters = aruco.DetectorParameters_create()\n",
    "aruco_dict = aruco.Dictionary_get(aruco.DICT_4X4_100)\n",
    "# camera_matrix =np.matrix ([[ 522.1905267183170736, 0.0000000000000000, 308.8532705794233948  ],\n",
    "#                   [ 0.0000000000000000, 522.8166355728753842, 234.2130798407917496 ],\n",
    "#                   [ 0.0000000000000000, 0.0000000000000000, 1.0000000000000000 ]])\n",
    "# # camera_matrix = [[1000, 0, 320], [0, 1000, 240], [0, 0, 1]]  # 示例相机矩阵\n",
    "# camera_dist = np.matrix([ 0.1058497356483027 ,-0.1488874492570700 ,0.0000000000000000 ,0.0000000000000000 ,-0.8698561798572152])\n",
    "\n",
    "camera_matrix = np.matrix( [[3.20790520e+03, 0.00000000e+00, 1.01091874e+03],\n",
    "                  [0.00000000e+00, 3.39787065e+03, 6.44844641e+02],\n",
    "                  [0.00000000e+00, 0.00000000e+00, 1.00000000e+00]])\n",
    "camera_dist = np.matrix( [ 3.40400374e-01, -2.65574509e+00,  9.96946780e-03,  8.68103031e-03,  -4.46459652e+01])\n",
    "  # marker_length: 0.012\n",
    "marker_length = 0.006\n",
    "parameters"
   ]
  },
  {
   "cell_type": "code",
   "execution_count": null,
   "metadata": {},
   "outputs": [],
   "source": [
    "import cv2\n",
    "import time\n",
    "import cv2.aruco as aruco\n",
    "from scipy.spatial.transform import Rotation as R\n",
    "\n",
    "# 创建视频捕捉对象，0 表示使用默认摄像头\n",
    "cap = cv2.VideoCapture(1)\n",
    "\n",
    "# 创建 ArUco 检测参数\n",
    "parameters = aruco.DetectorParameters_create()\n",
    "\n",
    "# 加载预定义的 ArUco 字典\n",
    "# aruco_dict = aruco.Dictionary_get(aruco.DICT_6X6_250)\n",
    "aruco_dict = aruco.Dictionary_get(aruco.DICT_4X4_250)\n",
    "i = 0\n",
    "while True:\n",
    "    # 读取一帧图像\n",
    "    time.sleep(1)\n",
    "    ret, frame = cap.read()\n",
    "    if not ret:\n",
    "        break\n",
    "\n",
    "    # 将图像转换为灰度图\n",
    "    gray = cv2.cvtColor(frame, cv2.COLOR_BGR2GRAY)\n",
    "\n",
    "    # 检测 ArUco 标记\n",
    "    corners, ids, rejectedImgPoints = aruco.detectMarkers(gray, aruco_dict, parameters=parameters)\n",
    "    rvecs, tvecs, _ = aruco.estimatePoseSingleMarkers(corners,\n",
    "                                                          marker_length,\n",
    "                                                          camera_matrix,\n",
    "                                                          camera_dist)\n",
    "    \n",
    "    # 估计标记的姿态\n",
    "    rvecs, tvecs, _ = aruco.estimatePoseSingleMarkers(corners, marker_length, camera_matrix, camera_dist)\n",
    "\n",
    "    # 检查返回值\n",
    "    if rvecs is not None and len(rvecs) > 0:\n",
    "        print(\"Rotation Vectors:\", rvecs)\n",
    "        # Rotation Vectors: [[[-3.12682862  0.03934772  0.00940102]]]\n",
    "        print(\"Translation Vectors:\", tvecs)\n",
    "        # Translation Vectors: [[[0.00055413 0.00014394 0.02618797]]]\n",
    "        \n",
    "        # 处理第一个标记的旋转向量\n",
    "        rr = R.from_rotvec(rvecs[0][0])\n",
    "        print(\"Rotation Matrix:\\n\", rr.as_matrix())\n",
    "         # [[ 0.99966529 -0.02520588 -0.00582934]\n",
    "         # [-0.02511868 -0.9995782   0.01457627]\n",
    "         # [-0.00619429 -0.01442496 -0.99987677]]\n",
    "    \n",
    "        # 获取欧拉角（以度为单位）\n",
    "        rpy = rr.as_euler('xyz', degrees=True)\n",
    "\n",
    "    \n",
    "        # 打印欧拉角\n",
    "        print(\"Euler Angles (before adjustment):\", rpy)\n",
    "        # Euler Angles (before adjustment): [-179.17346597    0.35490888   -1.4393736 ]\n",
    "    \n",
    "        # 确保 rpy 是一个数组并且长度为 3\n",
    "        if rpy.shape == (3,):\n",
    "            rpy[-1] = rpy[-1] + 360 * (rpy[-1] < 0)\n",
    "            rpy[0] = rpy[0] + 360 * (rpy[0] < 0)\n",
    "            print(\"Euler Angles (after adjustment):\", rpy)\n",
    "            # Euler Angles (after adjustment): [1.80826534e+02 3.54908876e-01 3.58560626e+02]\n",
    "            \n",
    "            # 检查 tvecs[0][0] 是否有效\n",
    "            if tvecs is not None and len(tvecs) > 0:\n",
    "                print(\"Translation Vector (in mm):\", tvecs[0][0] * 1000)\n",
    "                # 将平移向量转换为毫米并合并\n",
    "                back = np.concatenate((tvecs[0][0] * 1000, rpy))\n",
    "                print(\"Final Vector:\", back)\n",
    " #                Final Vector: [5.54131605e-01 1.43942161e-01 2.61879730e+01 1.80826534e+02\n",
    " # 3.54908876e-01 3.58560626e+02]\n",
    "            else:\n",
    "                print(\"Translation vector is None or empty.\")\n",
    "        else:\n",
    "            print(\"Unexpected shape for Euler angles:\", rpy.shape)\n",
    "    else:\n",
    "        print(\"未检测到任何标记或估计姿态失败\")\n",
    "\n",
    "\n",
    "    # 如果检测到标记，绘制边框并显示 ID\n",
    "    if ids is not None:\n",
    "        frame = aruco.drawDetectedMarkers(frame, corners, ids)\n",
    "        cv2.drawFrameAxes(frame, camera_matrix, camera_dist, rvecs[i], tvecs[i], 0.1)\n",
    "        # print('corners:',i, corners)\n",
    "\n",
    "    # 显示结果图像\n",
    "    cv2.imshow('Aruco Detection', frame)\n",
    "\n",
    "    # 按下 'q' 键退出\n",
    "    if cv2.waitKey(1) & 0xFF == ord('q'):\n",
    "        break\n",
    "\n",
    "# 释放视频捕捉对象并关闭所有窗口\n",
    "cap.release()\n",
    "cv2.destroyAllWindows()"
   ]
  }
 ],
 "metadata": {
  "kernelspec": {
   "display_name": "soft_finger",
   "language": "python",
   "name": "python3"
  },
  "language_info": {
   "codemirror_mode": {
    "name": "ipython",
    "version": 3
   },
   "file_extension": ".py",
   "mimetype": "text/x-python",
   "name": "python",
   "nbconvert_exporter": "python",
   "pygments_lexer": "ipython3",
   "version": "3.11.9"
  }
 },
 "nbformat": 4,
 "nbformat_minor": 2
}
