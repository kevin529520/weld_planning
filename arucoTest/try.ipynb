{
 "cells": [
  {
   "cell_type": "code",
   "execution_count": 2,
   "metadata": {},
   "outputs": [
    {
     "name": "stdout",
     "output_type": "stream",
     "text": [
      "4.6.0\n",
      "当前工作目录: d:\\南方\\南科\\weld project\\soft_finger\\weld_planning_2\\weld_planning\\arucoTest\n"
     ]
    }
   ],
   "source": [
    "import cv2\n",
    "print(cv2.__version__)\n",
    "import os\n",
    "print(\"当前工作目录:\", os.getcwd())\n",
    "\n",
    "from cv2 import aruco\n",
    "import cv2.aruco as aruco"
   ]
  },
  {
   "cell_type": "markdown",
   "metadata": {},
   "source": [
    "# 读取图片"
   ]
  },
  {
   "cell_type": "code",
   "execution_count": null,
   "metadata": {},
   "outputs": [],
   "source": [
    "import cv2\n",
    "image_dir = './cam1-aruco/'\n",
    "if not os.path.isdir(image_dir):\n",
    "    os.mkdir(image_dir)\n",
    "camera=cv2.VideoCapture(0)\n",
    "camera.set(3,1920) #设置分辨率\n",
    "camera.set(4,1080)\n",
    "i = 0\n",
    "while 1:\n",
    "    (grabbed, img) = camera.read()\n",
    "    cv2.imshow('img',img)\n",
    "    if cv2.waitKey(1) & 0xFF == ord('j'):  # 按j保存一张图片\n",
    "        i += 1\n",
    "        u = str(i)\n",
    "        firename=str(image_dir + u +'.jpg')\n",
    "        cv2.imwrite(firename, img)\n",
    "        print('写入：',firename)\n",
    "    if cv2.waitKey(1) & 0xFF == ord('q'):\n",
    "\n",
    "        break\n",
    "camera.release()\n",
    "cv2.destroyAllWindows()\n"
   ]
  },
  {
   "cell_type": "code",
   "execution_count": null,
   "metadata": {},
   "outputs": [
    {
     "name": "stdout",
     "output_type": "stream",
     "text": [
      "Saving to: images5/undistorted_/1.jpg\n"
     ]
    }
   ],
   "source": [
    "output_path =                 'images5' +                '/undistorted_/' + os.path.basename('1.jpg')\n",
    "            \n",
    "os.makedirs(os.path.dirname(output_path), exist_ok=True)\n",
    "print('Saving to:', output_path)"
   ]
  },
  {
   "cell_type": "code",
   "execution_count": 9,
   "metadata": {},
   "outputs": [],
   "source": [
    "# 生成一个aruco图片\n",
    "\n",
    "# # 创建 4X4_100 字典\n",
    "# aruco_dict = aruco.Dictionary_get(aruco.DICT_4X4_250)\n",
    "\n",
    "# # 生成一个 ID 为 42 的 ArUco 标记\n",
    "# marker_id = 30\n",
    "# marker_size = 200  # 标记的尺寸（以像素为单位）\n",
    "# marker_image = aruco.drawMarker(aruco_dict, marker_id, marker_size)\n",
    "\n",
    "# cv2.imshow('ArUco Marker', marker_image)\n",
    "# cv2.waitKey(0)\n",
    "# cv2.destroyAllWindows()"
   ]
  },
  {
   "cell_type": "code",
   "execution_count": 2,
   "metadata": {},
   "outputs": [],
   "source": [
    "import cv2, os, yaml\n",
    "import pandas as pd\n",
    "config = yaml.load(open('./controller_config.yaml'), Loader=yaml.FullLoader)"
   ]
  },
  {
   "cell_type": "code",
   "execution_count": 2,
   "metadata": {},
   "outputs": [
    {
     "name": "stdout",
     "output_type": "stream",
     "text": [
      "队列已满，无法添加新的图像\n",
      "队列已满，无法添加新的图像\n",
      "队列已满，无法添加新的图像\n",
      "队列已满，无法添加新的图像\n",
      "队列已满，无法添加新的图像\n",
      "ImgQue size: 100\n",
      "程序未崩溃，继续运行\n"
     ]
    }
   ],
   "source": [
    "import numpy as np\n",
    "import time\n",
    "from queue import LifoQueue, Full\n",
    "\n",
    "class GetFingerForce:\n",
    "    def __init__(self, tag_pose_vecs):\n",
    "        self.p0 = np.mean(tag_pose_vecs[:, :], axis=0)\n",
    "        # 取均值\n",
    "        self.dpLast = np.zeros([6])\n",
    "        self.dp = np.zeros([12])\n",
    "        self.ImgQue = LifoQueue(100)\n",
    "        # 后进先出队列，最新的图像会被最先处理\n",
    "        self.StopImgRead = LifoQueue(1000)\n",
    "\n",
    "        self.Pose = np.zeros(0)\n",
    "        self.LastTime = time.time()\n",
    "\n",
    "    def add_image(self, img):\n",
    "        try:\n",
    "            self.ImgQue.put(img, block=False)\n",
    "        except Full:\n",
    "            print(\"队列已满，无法添加新的图像\")\n",
    "\n",
    "# 示例用法\n",
    "tag_pose_vecs = np.random.rand(10, 3)  # 示例数据\n",
    "get_finger_force = GetFingerForce(tag_pose_vecs)\n",
    "\n",
    "# 尝试添加一些图像到队列中\n",
    "for _ in range(105):  # 尝试添加超过队列容量的图像\n",
    "    img = np.random.rand(640, 480, 3)  # 示例图像数据\n",
    "    get_finger_force.add_image(img)\n",
    "\n",
    "print(\"ImgQue size:\", get_finger_force.ImgQue.qsize())\n",
    "print(\"程序未崩溃，继续运行\")"
   ]
  },
  {
   "cell_type": "markdown",
   "metadata": {},
   "source": []
  },
  {
   "cell_type": "code",
   "execution_count": 3,
   "metadata": {},
   "outputs": [
    {
     "name": "stdout",
     "output_type": "stream",
     "text": [
      "[-3.14159265  0.          0.        ]\n"
     ]
    }
   ],
   "source": [
    "from scipy.spatial.transform import Rotation as Rt\n",
    "def rpy2rot_vec(rpy):\n",
    "    r = Rt.from_euler('xyz', rpy)\n",
    "    rot_vec = r.as_rotvec()\n",
    "    return rot_vec\n",
    "    # 欧拉角转换成旋转向量\n",
    "tcp = rpy2rot_vec((-np.pi, 0, 0))\n",
    "print(tcp)"
   ]
  }
 ],
 "metadata": {
  "kernelspec": {
   "display_name": "soft_finger",
   "language": "python",
   "name": "python3"
  },
  "language_info": {
   "codemirror_mode": {
    "name": "ipython",
    "version": 3
   },
   "file_extension": ".py",
   "mimetype": "text/x-python",
   "name": "python",
   "nbconvert_exporter": "python",
   "pygments_lexer": "ipython3",
   "version": "3.11.9"
  }
 },
 "nbformat": 4,
 "nbformat_minor": 2
}
